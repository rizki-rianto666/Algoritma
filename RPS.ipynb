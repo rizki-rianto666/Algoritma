{
  "nbformat": 4,
  "nbformat_minor": 0,
  "metadata": {
    "colab": {
      "provenance": [],
      "collapsed_sections": [],
      "authorship_tag": "ABX9TyPfmlE9kjSQx6R2Beo79Lqz",
      "include_colab_link": true
    },
    "kernelspec": {
      "name": "python3",
      "display_name": "Python 3"
    },
    "language_info": {
      "name": "python"
    }
  },
  "cells": [
    {
      "cell_type": "markdown",
      "metadata": {
        "id": "view-in-github",
        "colab_type": "text"
      },
      "source": [
        "<a href=\"https://colab.research.google.com/github/rizki-rianto666/Algoritma/blob/main/RPS.ipynb\" target=\"_parent\"><img src=\"https://colab.research.google.com/assets/colab-badge.svg\" alt=\"Open In Colab\"/></a>"
      ]
    },
    {
      "cell_type": "code",
      "execution_count": 3,
      "metadata": {
        "colab": {
          "base_uri": "https://localhost:8080/"
        },
        "id": "5B3g8mDhsdvL",
        "outputId": "521d65ef-9643-4b24-a0d7-1b9fd424026d"
      },
      "outputs": [
        {
          "name": "stdout",
          "output_type": "stream",
          "text": [
            "Whatchaaa doin :Nothin'\n"
          ]
        }
      ],
      "source": [
        "a = input(\"Whatchaaa doin :\")\n",
        "if a == True :\n",
        "  print(f\"You're doing {a}\")\n",
        "  print(\"OKEEHH\")"
      ]
    },
    {
      "cell_type": "markdown",
      "source": [],
      "metadata": {
        "id": "qnnPkx8_tClH"
      }
    },
    {
      "cell_type": "code",
      "source": [
        "def emot(onesname):\n",
        "    print(7*'<', 'MESSAGE WITH EMOT', 7*'>')\n",
        "    msg = input('-> ').split(' ')\n",
        "    emojis_dir = {\n",
        "        ':)' : '😊', ':(' : '😢', '8)' : '😎', 'luv' : '❣',\n",
        "        ':0' : '😮', 'xoxo' : '🤗'\n",
        "    }\n",
        "    y = ''\n",
        "    for x in msg :\n",
        "        y += emojis_dir.get(x, x) + ' '\n",
        "    \n",
        "    print()\n",
        "    print('>>>OUTPUT<<<')\n",
        "    print(f'Dear, {onesname} ')\n",
        "    print(y)\n",
        "\n",
        "emot(\"MY SELF !!!\")"
      ],
      "metadata": {
        "colab": {
          "base_uri": "https://localhost:8080/"
        },
        "id": "PnjF4eXPtFHN",
        "outputId": "8aa7c0a3-8e9f-418e-f2e8-2ce0ba114b37"
      },
      "execution_count": 4,
      "outputs": [
        {
          "output_type": "stream",
          "name": "stdout",
          "text": [
            "<<<<<<< MESSAGE WITH EMOT >>>>>>>\n",
            "-> Hello there ! How ro u ? :)\n",
            "\n",
            ">>>OUTPUT<<<\n",
            "Dear, MY SELF !!! \n",
            "Hello there ! How ro u ? 😊 \n"
          ]
        }
      ]
    },
    {
      "cell_type": "markdown",
      "source": [
        "**\n",
        "\n",
        "```\n",
        "# This is formatted as code\n",
        "```\n",
        "\n",
        "HELLO"
      ],
      "metadata": {
        "id": "AYK0acEKtFZY"
      }
    }
  ]
}